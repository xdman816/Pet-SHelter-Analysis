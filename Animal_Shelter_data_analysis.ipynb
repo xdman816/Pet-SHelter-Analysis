{
 "cells": [
  {
   "cell_type": "code",
   "execution_count": 2,
   "metadata": {},
   "outputs": [],
   "source": [
    "import pandas as pd \n",
    "import numpy as np \n"
   ]
  },
  {
   "cell_type": "markdown",
   "metadata": {},
   "source": [
    "## QUESTIONS:\n",
    "\n",
    "1) Is there an area where more pets are found? \n",
    "2) What is the average number of pets found in a month in the year 2015? Are there months where there is a higher number of animals found?\n",
    "3) What is the ratio of incoming pets vs. adopted pets?\n",
    "4) What is the distribution of the types of animals in the shelter?\n",
    "5) What are the adoption rates for specific breeds?\n",
    "6) What are the adoption rates for different colorings?\n",
    "7) About how many animals are spayed/neutered each month?\n",
    "\n"
   ]
  },
  {
   "cell_type": "code",
   "execution_count": 3,
   "metadata": {},
   "outputs": [
    {
     "data": {
      "text/html": [
       "<div>\n",
       "<style scoped>\n",
       "    .dataframe tbody tr th:only-of-type {\n",
       "        vertical-align: middle;\n",
       "    }\n",
       "\n",
       "    .dataframe tbody tr th {\n",
       "        vertical-align: top;\n",
       "    }\n",
       "\n",
       "    .dataframe thead th {\n",
       "        text-align: right;\n",
       "    }\n",
       "</style>\n",
       "<table border=\"1\" class=\"dataframe\">\n",
       "  <thead>\n",
       "    <tr style=\"text-align: right;\">\n",
       "      <th></th>\n",
       "      <th>age_upon_outcome</th>\n",
       "      <th>animal_id</th>\n",
       "      <th>animal_type</th>\n",
       "      <th>breed</th>\n",
       "      <th>color</th>\n",
       "      <th>date_of_birth</th>\n",
       "      <th>datetime</th>\n",
       "      <th>monthyear</th>\n",
       "      <th>name</th>\n",
       "      <th>outcome_subtype</th>\n",
       "      <th>outcome_type</th>\n",
       "      <th>sex_upon_outcome</th>\n",
       "    </tr>\n",
       "  </thead>\n",
       "  <tbody>\n",
       "    <tr>\n",
       "      <th>0</th>\n",
       "      <td>2 weeks</td>\n",
       "      <td>A684346</td>\n",
       "      <td>Cat</td>\n",
       "      <td>Domestic Shorthair Mix</td>\n",
       "      <td>Orange Tabby</td>\n",
       "      <td>2014-07-07T00:00:00</td>\n",
       "      <td>2014-07-22T16:04:00</td>\n",
       "      <td>2014-07-22T16:04:00</td>\n",
       "      <td>NaN</td>\n",
       "      <td>Partner</td>\n",
       "      <td>Transfer</td>\n",
       "      <td>Intact Male</td>\n",
       "    </tr>\n",
       "    <tr>\n",
       "      <th>1</th>\n",
       "      <td>1 year</td>\n",
       "      <td>A666430</td>\n",
       "      <td>Dog</td>\n",
       "      <td>Beagle Mix</td>\n",
       "      <td>White/Brown</td>\n",
       "      <td>2012-11-06T00:00:00</td>\n",
       "      <td>2013-11-07T11:47:00</td>\n",
       "      <td>2013-11-07T11:47:00</td>\n",
       "      <td>Lucy</td>\n",
       "      <td>Partner</td>\n",
       "      <td>Transfer</td>\n",
       "      <td>Spayed Female</td>\n",
       "    </tr>\n",
       "    <tr>\n",
       "      <th>2</th>\n",
       "      <td>1 year</td>\n",
       "      <td>A675708</td>\n",
       "      <td>Dog</td>\n",
       "      <td>Pit Bull</td>\n",
       "      <td>Blue/White</td>\n",
       "      <td>2013-03-31T00:00:00</td>\n",
       "      <td>2014-06-03T14:20:00</td>\n",
       "      <td>2014-06-03T14:20:00</td>\n",
       "      <td>*Johnny</td>\n",
       "      <td>NaN</td>\n",
       "      <td>Adoption</td>\n",
       "      <td>Neutered Male</td>\n",
       "    </tr>\n",
       "    <tr>\n",
       "      <th>3</th>\n",
       "      <td>9 years</td>\n",
       "      <td>A680386</td>\n",
       "      <td>Dog</td>\n",
       "      <td>Miniature Schnauzer Mix</td>\n",
       "      <td>White</td>\n",
       "      <td>2005-06-02T00:00:00</td>\n",
       "      <td>2014-06-15T15:50:00</td>\n",
       "      <td>2014-06-15T15:50:00</td>\n",
       "      <td>Monday</td>\n",
       "      <td>Partner</td>\n",
       "      <td>Transfer</td>\n",
       "      <td>Neutered Male</td>\n",
       "    </tr>\n",
       "    <tr>\n",
       "      <th>4</th>\n",
       "      <td>5 months</td>\n",
       "      <td>A683115</td>\n",
       "      <td>Other</td>\n",
       "      <td>Bat Mix</td>\n",
       "      <td>Brown</td>\n",
       "      <td>2014-01-07T00:00:00</td>\n",
       "      <td>2014-07-07T14:04:00</td>\n",
       "      <td>2014-07-07T14:04:00</td>\n",
       "      <td>NaN</td>\n",
       "      <td>Rabies Risk</td>\n",
       "      <td>Euthanasia</td>\n",
       "      <td>Unknown</td>\n",
       "    </tr>\n",
       "  </tbody>\n",
       "</table>\n",
       "</div>"
      ],
      "text/plain": [
       "  age_upon_outcome animal_id animal_type                    breed  \\\n",
       "0          2 weeks   A684346         Cat   Domestic Shorthair Mix   \n",
       "1           1 year   A666430         Dog               Beagle Mix   \n",
       "2           1 year   A675708         Dog                 Pit Bull   \n",
       "3          9 years   A680386         Dog  Miniature Schnauzer Mix   \n",
       "4         5 months   A683115       Other                  Bat Mix   \n",
       "\n",
       "          color        date_of_birth             datetime  \\\n",
       "0  Orange Tabby  2014-07-07T00:00:00  2014-07-22T16:04:00   \n",
       "1   White/Brown  2012-11-06T00:00:00  2013-11-07T11:47:00   \n",
       "2    Blue/White  2013-03-31T00:00:00  2014-06-03T14:20:00   \n",
       "3         White  2005-06-02T00:00:00  2014-06-15T15:50:00   \n",
       "4         Brown  2014-01-07T00:00:00  2014-07-07T14:04:00   \n",
       "\n",
       "             monthyear     name outcome_subtype outcome_type sex_upon_outcome  \n",
       "0  2014-07-22T16:04:00      NaN         Partner     Transfer      Intact Male  \n",
       "1  2013-11-07T11:47:00     Lucy         Partner     Transfer    Spayed Female  \n",
       "2  2014-06-03T14:20:00  *Johnny             NaN     Adoption    Neutered Male  \n",
       "3  2014-06-15T15:50:00   Monday         Partner     Transfer    Neutered Male  \n",
       "4  2014-07-07T14:04:00      NaN     Rabies Risk   Euthanasia          Unknown  "
      ]
     },
     "execution_count": 3,
     "metadata": {},
     "output_type": "execute_result"
    }
   ],
   "source": [
    "outcomes = pd.read_csv('aac_outcomes.csv')\n",
    "outcomes.head()"
   ]
  },
  {
   "cell_type": "code",
   "execution_count": 4,
   "metadata": {},
   "outputs": [
    {
     "data": {
      "text/html": [
       "<div>\n",
       "<style scoped>\n",
       "    .dataframe tbody tr th:only-of-type {\n",
       "        vertical-align: middle;\n",
       "    }\n",
       "\n",
       "    .dataframe tbody tr th {\n",
       "        vertical-align: top;\n",
       "    }\n",
       "\n",
       "    .dataframe thead th {\n",
       "        text-align: right;\n",
       "    }\n",
       "</style>\n",
       "<table border=\"1\" class=\"dataframe\">\n",
       "  <thead>\n",
       "    <tr style=\"text-align: right;\">\n",
       "      <th></th>\n",
       "      <th>age_upon_intake</th>\n",
       "      <th>animal_id</th>\n",
       "      <th>animal_type</th>\n",
       "      <th>breed</th>\n",
       "      <th>color</th>\n",
       "      <th>datetime</th>\n",
       "      <th>datetime2</th>\n",
       "      <th>found_location</th>\n",
       "      <th>intake_condition</th>\n",
       "      <th>intake_type</th>\n",
       "      <th>name</th>\n",
       "      <th>sex_upon_intake</th>\n",
       "    </tr>\n",
       "  </thead>\n",
       "  <tbody>\n",
       "    <tr>\n",
       "      <th>11806</th>\n",
       "      <td>9 years</td>\n",
       "      <td>A674871</td>\n",
       "      <td>Dog</td>\n",
       "      <td>Cardigan Welsh Corgi Mix</td>\n",
       "      <td>Black</td>\n",
       "      <td>2014-03-19T14:05:00.000</td>\n",
       "      <td>2014-03-19T14:05:00.000</td>\n",
       "      <td>Oliver Loving Trl in Austin (TX)</td>\n",
       "      <td>Normal</td>\n",
       "      <td>Stray</td>\n",
       "      <td>Chip</td>\n",
       "      <td>Intact Male</td>\n",
       "    </tr>\n",
       "    <tr>\n",
       "      <th>6110</th>\n",
       "      <td>9 years</td>\n",
       "      <td>A699947</td>\n",
       "      <td>Dog</td>\n",
       "      <td>German Shorthair Pointer/Brittany</td>\n",
       "      <td>Brown/White</td>\n",
       "      <td>2015-04-04T16:06:00.000</td>\n",
       "      <td>2015-04-04T16:06:00.000</td>\n",
       "      <td>Wexford Dr And Blackmoor Dr in Austin (TX)</td>\n",
       "      <td>Normal</td>\n",
       "      <td>Stray</td>\n",
       "      <td>Daisy</td>\n",
       "      <td>Intact Female</td>\n",
       "    </tr>\n",
       "    <tr>\n",
       "      <th>35065</th>\n",
       "      <td>9 years</td>\n",
       "      <td>A695891</td>\n",
       "      <td>Dog</td>\n",
       "      <td>Cocker Spaniel Mix</td>\n",
       "      <td>White/Buff</td>\n",
       "      <td>2015-01-25T08:31:00.000</td>\n",
       "      <td>2015-01-25T08:31:00.000</td>\n",
       "      <td>Abilene Trl &amp; Open Range in Austin (TX)</td>\n",
       "      <td>Normal</td>\n",
       "      <td>Stray</td>\n",
       "      <td>Cuddles</td>\n",
       "      <td>Spayed Female</td>\n",
       "    </tr>\n",
       "    <tr>\n",
       "      <th>11916</th>\n",
       "      <td>9 years</td>\n",
       "      <td>A730301</td>\n",
       "      <td>Dog</td>\n",
       "      <td>Miniature Schnauzer Mix</td>\n",
       "      <td>Cream</td>\n",
       "      <td>2016-07-01T16:13:00.000</td>\n",
       "      <td>2016-07-01T16:13:00.000</td>\n",
       "      <td>Peyton Gin And Hunters Trc in Austin (TX)</td>\n",
       "      <td>Normal</td>\n",
       "      <td>Stray</td>\n",
       "      <td>*Bentley</td>\n",
       "      <td>Intact Male</td>\n",
       "    </tr>\n",
       "    <tr>\n",
       "      <th>6205</th>\n",
       "      <td>9 years</td>\n",
       "      <td>A633402</td>\n",
       "      <td>Dog</td>\n",
       "      <td>Pit Bull/Labrador Retriever</td>\n",
       "      <td>Red</td>\n",
       "      <td>2015-05-18T13:40:00.000</td>\n",
       "      <td>2015-05-18T13:40:00.000</td>\n",
       "      <td>1708 Magazine in Austin (TX)</td>\n",
       "      <td>Normal</td>\n",
       "      <td>Stray</td>\n",
       "      <td>Canela</td>\n",
       "      <td>Spayed Female</td>\n",
       "    </tr>\n",
       "  </tbody>\n",
       "</table>\n",
       "</div>"
      ],
      "text/plain": [
       "      age_upon_intake animal_id animal_type  \\\n",
       "11806         9 years   A674871         Dog   \n",
       "6110          9 years   A699947         Dog   \n",
       "35065         9 years   A695891         Dog   \n",
       "11916         9 years   A730301         Dog   \n",
       "6205          9 years   A633402         Dog   \n",
       "\n",
       "                                   breed        color  \\\n",
       "11806           Cardigan Welsh Corgi Mix        Black   \n",
       "6110   German Shorthair Pointer/Brittany  Brown/White   \n",
       "35065                 Cocker Spaniel Mix   White/Buff   \n",
       "11916            Miniature Schnauzer Mix        Cream   \n",
       "6205         Pit Bull/Labrador Retriever          Red   \n",
       "\n",
       "                      datetime                datetime2  \\\n",
       "11806  2014-03-19T14:05:00.000  2014-03-19T14:05:00.000   \n",
       "6110   2015-04-04T16:06:00.000  2015-04-04T16:06:00.000   \n",
       "35065  2015-01-25T08:31:00.000  2015-01-25T08:31:00.000   \n",
       "11916  2016-07-01T16:13:00.000  2016-07-01T16:13:00.000   \n",
       "6205   2015-05-18T13:40:00.000  2015-05-18T13:40:00.000   \n",
       "\n",
       "                                   found_location intake_condition  \\\n",
       "11806            Oliver Loving Trl in Austin (TX)           Normal   \n",
       "6110   Wexford Dr And Blackmoor Dr in Austin (TX)           Normal   \n",
       "35065     Abilene Trl & Open Range in Austin (TX)           Normal   \n",
       "11916   Peyton Gin And Hunters Trc in Austin (TX)           Normal   \n",
       "6205                 1708 Magazine in Austin (TX)           Normal   \n",
       "\n",
       "      intake_type      name sex_upon_intake  \n",
       "11806       Stray      Chip     Intact Male  \n",
       "6110        Stray     Daisy   Intact Female  \n",
       "35065       Stray   Cuddles   Spayed Female  \n",
       "11916       Stray  *Bentley     Intact Male  \n",
       "6205        Stray    Canela   Spayed Female  "
      ]
     },
     "execution_count": 4,
     "metadata": {},
     "output_type": "execute_result"
    }
   ],
   "source": [
    "intakes = pd.read_csv('aac_intakes.csv')\n",
    "intakes.sort_values(by='age_upon_intake', ascending=False).head()"
   ]
  },
  {
   "cell_type": "code",
   "execution_count": 5,
   "metadata": {},
   "outputs": [
    {
     "data": {
      "text/html": [
       "<div>\n",
       "<style scoped>\n",
       "    .dataframe tbody tr th:only-of-type {\n",
       "        vertical-align: middle;\n",
       "    }\n",
       "\n",
       "    .dataframe tbody tr th {\n",
       "        vertical-align: top;\n",
       "    }\n",
       "\n",
       "    .dataframe thead th {\n",
       "        text-align: right;\n",
       "    }\n",
       "</style>\n",
       "<table border=\"1\" class=\"dataframe\">\n",
       "  <thead>\n",
       "    <tr style=\"text-align: right;\">\n",
       "      <th></th>\n",
       "      <th>age_upon_outcome</th>\n",
       "      <th>animal_id_outcome</th>\n",
       "      <th>date_of_birth</th>\n",
       "      <th>outcome_subtype</th>\n",
       "      <th>outcome_type</th>\n",
       "      <th>sex_upon_outcome</th>\n",
       "      <th>age_upon_outcome_(days)</th>\n",
       "      <th>age_upon_outcome_(years)</th>\n",
       "      <th>age_upon_outcome_age_group</th>\n",
       "      <th>outcome_datetime</th>\n",
       "      <th>...</th>\n",
       "      <th>age_upon_intake_age_group</th>\n",
       "      <th>intake_datetime</th>\n",
       "      <th>intake_month</th>\n",
       "      <th>intake_year</th>\n",
       "      <th>intake_monthyear</th>\n",
       "      <th>intake_weekday</th>\n",
       "      <th>intake_hour</th>\n",
       "      <th>intake_number</th>\n",
       "      <th>time_in_shelter</th>\n",
       "      <th>time_in_shelter_days</th>\n",
       "    </tr>\n",
       "  </thead>\n",
       "  <tbody>\n",
       "    <tr>\n",
       "      <th>0</th>\n",
       "      <td>10 years</td>\n",
       "      <td>A006100</td>\n",
       "      <td>2007-07-09 00:00:00</td>\n",
       "      <td>NaN</td>\n",
       "      <td>Return to Owner</td>\n",
       "      <td>Neutered Male</td>\n",
       "      <td>3650</td>\n",
       "      <td>10.0</td>\n",
       "      <td>(7.5, 10.0]</td>\n",
       "      <td>2017-12-07 14:07:00</td>\n",
       "      <td>...</td>\n",
       "      <td>(7.5, 10.0]</td>\n",
       "      <td>2017-12-07 00:00:00</td>\n",
       "      <td>12</td>\n",
       "      <td>2017</td>\n",
       "      <td>2017-12</td>\n",
       "      <td>Thursday</td>\n",
       "      <td>14</td>\n",
       "      <td>1.0</td>\n",
       "      <td>0 days 14:07:00.000000000</td>\n",
       "      <td>0.588194</td>\n",
       "    </tr>\n",
       "    <tr>\n",
       "      <th>1</th>\n",
       "      <td>7 years</td>\n",
       "      <td>A006100</td>\n",
       "      <td>2007-07-09 00:00:00</td>\n",
       "      <td>NaN</td>\n",
       "      <td>Return to Owner</td>\n",
       "      <td>Neutered Male</td>\n",
       "      <td>2555</td>\n",
       "      <td>7.0</td>\n",
       "      <td>(5.0, 7.5]</td>\n",
       "      <td>2014-12-20 16:35:00</td>\n",
       "      <td>...</td>\n",
       "      <td>(5.0, 7.5]</td>\n",
       "      <td>2014-12-19 10:21:00</td>\n",
       "      <td>12</td>\n",
       "      <td>2014</td>\n",
       "      <td>2014-12</td>\n",
       "      <td>Friday</td>\n",
       "      <td>10</td>\n",
       "      <td>2.0</td>\n",
       "      <td>1 days 06:14:00.000000000</td>\n",
       "      <td>1.259722</td>\n",
       "    </tr>\n",
       "    <tr>\n",
       "      <th>2</th>\n",
       "      <td>6 years</td>\n",
       "      <td>A006100</td>\n",
       "      <td>2007-07-09 00:00:00</td>\n",
       "      <td>NaN</td>\n",
       "      <td>Return to Owner</td>\n",
       "      <td>Neutered Male</td>\n",
       "      <td>2190</td>\n",
       "      <td>6.0</td>\n",
       "      <td>(5.0, 7.5]</td>\n",
       "      <td>2014-03-08 17:10:00</td>\n",
       "      <td>...</td>\n",
       "      <td>(5.0, 7.5]</td>\n",
       "      <td>2014-03-07 14:26:00</td>\n",
       "      <td>3</td>\n",
       "      <td>2014</td>\n",
       "      <td>2014-03</td>\n",
       "      <td>Friday</td>\n",
       "      <td>14</td>\n",
       "      <td>3.0</td>\n",
       "      <td>1 days 02:44:00.000000000</td>\n",
       "      <td>1.113889</td>\n",
       "    </tr>\n",
       "    <tr>\n",
       "      <th>3</th>\n",
       "      <td>10 years</td>\n",
       "      <td>A047759</td>\n",
       "      <td>2004-04-02 00:00:00</td>\n",
       "      <td>Partner</td>\n",
       "      <td>Transfer</td>\n",
       "      <td>Neutered Male</td>\n",
       "      <td>3650</td>\n",
       "      <td>10.0</td>\n",
       "      <td>(7.5, 10.0]</td>\n",
       "      <td>2014-04-07 15:12:00</td>\n",
       "      <td>...</td>\n",
       "      <td>(7.5, 10.0]</td>\n",
       "      <td>2014-04-02 15:55:00</td>\n",
       "      <td>4</td>\n",
       "      <td>2014</td>\n",
       "      <td>2014-04</td>\n",
       "      <td>Wednesday</td>\n",
       "      <td>15</td>\n",
       "      <td>1.0</td>\n",
       "      <td>4 days 23:17:00.000000000</td>\n",
       "      <td>4.970139</td>\n",
       "    </tr>\n",
       "    <tr>\n",
       "      <th>4</th>\n",
       "      <td>16 years</td>\n",
       "      <td>A134067</td>\n",
       "      <td>1997-10-16 00:00:00</td>\n",
       "      <td>NaN</td>\n",
       "      <td>Return to Owner</td>\n",
       "      <td>Neutered Male</td>\n",
       "      <td>5840</td>\n",
       "      <td>16.0</td>\n",
       "      <td>(15.0, 17.5]</td>\n",
       "      <td>2013-11-16 11:54:00</td>\n",
       "      <td>...</td>\n",
       "      <td>(15.0, 17.5]</td>\n",
       "      <td>2013-11-16 09:02:00</td>\n",
       "      <td>11</td>\n",
       "      <td>2013</td>\n",
       "      <td>2013-11</td>\n",
       "      <td>Saturday</td>\n",
       "      <td>9</td>\n",
       "      <td>1.0</td>\n",
       "      <td>0 days 02:52:00.000000000</td>\n",
       "      <td>0.119444</td>\n",
       "    </tr>\n",
       "  </tbody>\n",
       "</table>\n",
       "<p>5 rows × 41 columns</p>\n",
       "</div>"
      ],
      "text/plain": [
       "  age_upon_outcome animal_id_outcome        date_of_birth outcome_subtype  \\\n",
       "0         10 years           A006100  2007-07-09 00:00:00             NaN   \n",
       "1          7 years           A006100  2007-07-09 00:00:00             NaN   \n",
       "2          6 years           A006100  2007-07-09 00:00:00             NaN   \n",
       "3         10 years           A047759  2004-04-02 00:00:00         Partner   \n",
       "4         16 years           A134067  1997-10-16 00:00:00             NaN   \n",
       "\n",
       "      outcome_type sex_upon_outcome  age_upon_outcome_(days)  \\\n",
       "0  Return to Owner    Neutered Male                     3650   \n",
       "1  Return to Owner    Neutered Male                     2555   \n",
       "2  Return to Owner    Neutered Male                     2190   \n",
       "3         Transfer    Neutered Male                     3650   \n",
       "4  Return to Owner    Neutered Male                     5840   \n",
       "\n",
       "   age_upon_outcome_(years) age_upon_outcome_age_group     outcome_datetime  \\\n",
       "0                      10.0                (7.5, 10.0]  2017-12-07 14:07:00   \n",
       "1                       7.0                 (5.0, 7.5]  2014-12-20 16:35:00   \n",
       "2                       6.0                 (5.0, 7.5]  2014-03-08 17:10:00   \n",
       "3                      10.0                (7.5, 10.0]  2014-04-07 15:12:00   \n",
       "4                      16.0               (15.0, 17.5]  2013-11-16 11:54:00   \n",
       "\n",
       "   ...  age_upon_intake_age_group      intake_datetime intake_month  \\\n",
       "0  ...                (7.5, 10.0]  2017-12-07 00:00:00           12   \n",
       "1  ...                 (5.0, 7.5]  2014-12-19 10:21:00           12   \n",
       "2  ...                 (5.0, 7.5]  2014-03-07 14:26:00            3   \n",
       "3  ...                (7.5, 10.0]  2014-04-02 15:55:00            4   \n",
       "4  ...               (15.0, 17.5]  2013-11-16 09:02:00           11   \n",
       "\n",
       "  intake_year  intake_monthyear  intake_weekday  intake_hour  intake_number  \\\n",
       "0        2017           2017-12        Thursday           14            1.0   \n",
       "1        2014           2014-12          Friday           10            2.0   \n",
       "2        2014           2014-03          Friday           14            3.0   \n",
       "3        2014           2014-04       Wednesday           15            1.0   \n",
       "4        2013           2013-11        Saturday            9            1.0   \n",
       "\n",
       "             time_in_shelter time_in_shelter_days  \n",
       "0  0 days 14:07:00.000000000             0.588194  \n",
       "1  1 days 06:14:00.000000000             1.259722  \n",
       "2  1 days 02:44:00.000000000             1.113889  \n",
       "3  4 days 23:17:00.000000000             4.970139  \n",
       "4  0 days 02:52:00.000000000             0.119444  \n",
       "\n",
       "[5 rows x 41 columns]"
      ]
     },
     "execution_count": 5,
     "metadata": {},
     "output_type": "execute_result"
    }
   ],
   "source": [
    "in_out = pd.read_csv('aac_intakes_outcomes.csv')\n",
    "in_out.head()"
   ]
  },
  {
   "cell_type": "markdown",
   "metadata": {},
   "source": [
    "## QUESTION 1: Is there an area where more pets are found? \n",
    "\n",
    "**Method**: Grouped the intake data by \"found_location\" column, sorted values by descending order, then took the top 5 returned values.\n",
    "\n",
    "**Answer**: The top 5 places where pets are found are: Austin (14,443 animals), Outside Jurisdiction (948 animals), Travis (921 animals), 7201 Levander Loop in Austin (517 animals), and Del Valle (411 animals)"
   ]
  },
  {
   "cell_type": "code",
   "execution_count": 6,
   "metadata": {},
   "outputs": [
    {
     "data": {
      "text/plain": [
       "found_location\n",
       "Austin (TX)                          14443\n",
       "Outside Jurisdiction                   948\n",
       "Travis (TX)                            921\n",
       "7201 Levander Loop in Austin (TX)      517\n",
       "Del Valle (TX)                         411\n",
       "dtype: int64"
      ]
     },
     "execution_count": 6,
     "metadata": {},
     "output_type": "execute_result"
    }
   ],
   "source": [
    "location_list = intakes.groupby('found_location').size().sort_values(ascending=False)\n",
    "location_list[:5]\n"
   ]
  },
  {
   "cell_type": "markdown",
   "metadata": {},
   "source": [
    "## QUESTION 2: What is the average number of pets found in a month in the year 2015? Are there months where there is a higher number of animals found?\n",
    "\n",
    "**Method**: Created separate month and year columns for analysis using pd.DatetimeIndex. Calculated the average pets found each month by indexing the year 2015 and dividing by 12. For the months with higher numbers, I sorted by using groupby('month') in the year 2015 and sorting by descending order. I also looked at all of the data across years to see if the data in 2015 was consistent with the overall trend in the data.\n",
    "\n",
    "**Answer**: There were an average of 1559 pets found per month in the year 2015. The months of **June**, **May** and **October** had the highest 3 numbers both in 2015 (2189, 2094 and 1740, respectively); this is consistent when looking at the entire dataset (June, May and October also have the highest average numbers across all years in the dataset)."
   ]
  },
  {
   "cell_type": "code",
   "execution_count": 7,
   "metadata": {},
   "outputs": [
    {
     "data": {
      "text/html": [
       "<div>\n",
       "<style scoped>\n",
       "    .dataframe tbody tr th:only-of-type {\n",
       "        vertical-align: middle;\n",
       "    }\n",
       "\n",
       "    .dataframe tbody tr th {\n",
       "        vertical-align: top;\n",
       "    }\n",
       "\n",
       "    .dataframe thead th {\n",
       "        text-align: right;\n",
       "    }\n",
       "</style>\n",
       "<table border=\"1\" class=\"dataframe\">\n",
       "  <thead>\n",
       "    <tr style=\"text-align: right;\">\n",
       "      <th></th>\n",
       "      <th>age_upon_intake</th>\n",
       "      <th>animal_id</th>\n",
       "      <th>animal_type</th>\n",
       "      <th>breed</th>\n",
       "      <th>color</th>\n",
       "      <th>datetime</th>\n",
       "      <th>datetime2</th>\n",
       "      <th>found_location</th>\n",
       "      <th>intake_condition</th>\n",
       "      <th>intake_type</th>\n",
       "      <th>name</th>\n",
       "      <th>sex_upon_intake</th>\n",
       "    </tr>\n",
       "  </thead>\n",
       "  <tbody>\n",
       "    <tr>\n",
       "      <th>0</th>\n",
       "      <td>8 years</td>\n",
       "      <td>A706918</td>\n",
       "      <td>Dog</td>\n",
       "      <td>English Springer Spaniel</td>\n",
       "      <td>White/Liver</td>\n",
       "      <td>2015-07-05 12:59:00</td>\n",
       "      <td>2015-07-05 12:59:00</td>\n",
       "      <td>9409 Bluegrass Dr in Austin (TX)</td>\n",
       "      <td>Normal</td>\n",
       "      <td>Stray</td>\n",
       "      <td>Belle</td>\n",
       "      <td>Spayed Female</td>\n",
       "    </tr>\n",
       "    <tr>\n",
       "      <th>1</th>\n",
       "      <td>11 months</td>\n",
       "      <td>A724273</td>\n",
       "      <td>Dog</td>\n",
       "      <td>Basenji Mix</td>\n",
       "      <td>Sable/White</td>\n",
       "      <td>2016-04-14 18:43:00</td>\n",
       "      <td>2016-04-14 18:43:00</td>\n",
       "      <td>2818 Palomino Trail in Austin (TX)</td>\n",
       "      <td>Normal</td>\n",
       "      <td>Stray</td>\n",
       "      <td>Runster</td>\n",
       "      <td>Intact Male</td>\n",
       "    </tr>\n",
       "    <tr>\n",
       "      <th>2</th>\n",
       "      <td>4 weeks</td>\n",
       "      <td>A665644</td>\n",
       "      <td>Cat</td>\n",
       "      <td>Domestic Shorthair Mix</td>\n",
       "      <td>Calico</td>\n",
       "      <td>2013-10-21 07:59:00</td>\n",
       "      <td>2013-10-21 07:59:00</td>\n",
       "      <td>Austin (TX)</td>\n",
       "      <td>Sick</td>\n",
       "      <td>Stray</td>\n",
       "      <td>NaN</td>\n",
       "      <td>Intact Female</td>\n",
       "    </tr>\n",
       "    <tr>\n",
       "      <th>3</th>\n",
       "      <td>4 years</td>\n",
       "      <td>A682524</td>\n",
       "      <td>Dog</td>\n",
       "      <td>Doberman Pinsch/Australian Cattle Dog</td>\n",
       "      <td>Tan/Gray</td>\n",
       "      <td>2014-06-29 10:38:00</td>\n",
       "      <td>2014-06-29 10:38:00</td>\n",
       "      <td>800 Grove Blvd in Austin (TX)</td>\n",
       "      <td>Normal</td>\n",
       "      <td>Stray</td>\n",
       "      <td>Rio</td>\n",
       "      <td>Neutered Male</td>\n",
       "    </tr>\n",
       "    <tr>\n",
       "      <th>4</th>\n",
       "      <td>2 years</td>\n",
       "      <td>A743852</td>\n",
       "      <td>Dog</td>\n",
       "      <td>Labrador Retriever Mix</td>\n",
       "      <td>Chocolate</td>\n",
       "      <td>2017-02-18 12:46:00</td>\n",
       "      <td>2017-02-18 12:46:00</td>\n",
       "      <td>Austin (TX)</td>\n",
       "      <td>Normal</td>\n",
       "      <td>Owner Surrender</td>\n",
       "      <td>Odin</td>\n",
       "      <td>Neutered Male</td>\n",
       "    </tr>\n",
       "  </tbody>\n",
       "</table>\n",
       "</div>"
      ],
      "text/plain": [
       "  age_upon_intake animal_id animal_type  \\\n",
       "0         8 years   A706918         Dog   \n",
       "1       11 months   A724273         Dog   \n",
       "2         4 weeks   A665644         Cat   \n",
       "3         4 years   A682524         Dog   \n",
       "4         2 years   A743852         Dog   \n",
       "\n",
       "                                   breed        color            datetime  \\\n",
       "0               English Springer Spaniel  White/Liver 2015-07-05 12:59:00   \n",
       "1                            Basenji Mix  Sable/White 2016-04-14 18:43:00   \n",
       "2                 Domestic Shorthair Mix       Calico 2013-10-21 07:59:00   \n",
       "3  Doberman Pinsch/Australian Cattle Dog     Tan/Gray 2014-06-29 10:38:00   \n",
       "4                 Labrador Retriever Mix    Chocolate 2017-02-18 12:46:00   \n",
       "\n",
       "            datetime2                      found_location intake_condition  \\\n",
       "0 2015-07-05 12:59:00    9409 Bluegrass Dr in Austin (TX)           Normal   \n",
       "1 2016-04-14 18:43:00  2818 Palomino Trail in Austin (TX)           Normal   \n",
       "2 2013-10-21 07:59:00                         Austin (TX)             Sick   \n",
       "3 2014-06-29 10:38:00       800 Grove Blvd in Austin (TX)           Normal   \n",
       "4 2017-02-18 12:46:00                         Austin (TX)           Normal   \n",
       "\n",
       "       intake_type     name sex_upon_intake  \n",
       "0            Stray    Belle   Spayed Female  \n",
       "1            Stray  Runster     Intact Male  \n",
       "2            Stray      NaN   Intact Female  \n",
       "3            Stray      Rio   Neutered Male  \n",
       "4  Owner Surrender     Odin   Neutered Male  "
      ]
     },
     "execution_count": 7,
     "metadata": {},
     "output_type": "execute_result"
    }
   ],
   "source": [
    "intakes.datetime = pd.to_datetime(intakes.datetime)\n",
    "intakes.datetime2 = pd.to_datetime(intakes.datetime2)\n",
    "\n",
    "intakes.head()\n"
   ]
  },
  {
   "cell_type": "code",
   "execution_count": 8,
   "metadata": {},
   "outputs": [
    {
     "data": {
      "text/plain": [
       "month\n",
       "5     7976\n",
       "10    7674\n",
       "6     7473\n",
       "3     6842\n",
       "11    6629\n",
       "7     6550\n",
       "8     6511\n",
       "9     6507\n",
       "12    6131\n",
       "4     6119\n",
       "1     6025\n",
       "2     5750\n",
       "dtype: int64"
      ]
     },
     "execution_count": 8,
     "metadata": {},
     "output_type": "execute_result"
    }
   ],
   "source": [
    "# create separate month and year columns for analysis\n",
    "intakes['year'] = pd.DatetimeIndex(intakes.datetime).year\n",
    "intakes['month'] = pd.DatetimeIndex(intakes.datetime).month \n",
    "intakes.groupby('month').size().sort_values(ascending=False)"
   ]
  },
  {
   "cell_type": "code",
   "execution_count": 9,
   "metadata": {},
   "outputs": [
    {
     "data": {
      "text/plain": [
       "1559"
      ]
     },
     "execution_count": 9,
     "metadata": {},
     "output_type": "execute_result"
    }
   ],
   "source": [
    "intakes_2015 = intakes[intakes.year == 2015].count()[1] #18712 pets found in 2015\n",
    "avg_intake_2015 = intakes_2015/12\n",
    "int(avg_intake_2015)"
   ]
  },
  {
   "cell_type": "code",
   "execution_count": 10,
   "metadata": {},
   "outputs": [
    {
     "data": {
      "text/plain": [
       "month\n",
       "6     2189\n",
       "5     2094\n",
       "10    1740\n",
       "8     1718\n",
       "7     1635\n",
       "9     1591\n",
       "4     1543\n",
       "11    1411\n",
       "3     1346\n",
       "1     1198\n",
       "12    1128\n",
       "2     1119\n",
       "dtype: int64"
      ]
     },
     "execution_count": 10,
     "metadata": {},
     "output_type": "execute_result"
    }
   ],
   "source": [
    "intakes[(intakes.year == 2015)].groupby('month').size().sort_values(ascending=False)"
   ]
  },
  {
   "cell_type": "markdown",
   "metadata": {},
   "source": [
    "## QUESTION 3: What is the ratio of incoming pets vs. adopted pets?\n",
    "\n",
    "**Method**: created an 'adopted' index from the intakes_outcomes data. To calculate the ratio of incoming pets vs. adopted pets, I divided the total incoming pets by the number of adopted pets.\n",
    "\n",
    "**Answer**: According to the intakes_outcomes data, the ratio of incoming pets to adoption is about 2.37:1. In other words, out of 237 incoming pets 100 are adopted. "
   ]
  },
  {
   "cell_type": "code",
   "execution_count": 11,
   "metadata": {},
   "outputs": [],
   "source": [
    "adopted = in_out[in_out.outcome_type == 'Adoption']\n",
    "adopted_count = len(adopted)\n",
    "total_intake = in_out.count()[1]"
   ]
  },
  {
   "cell_type": "code",
   "execution_count": 12,
   "metadata": {},
   "outputs": [
    {
     "data": {
      "text/plain": [
       "2.37"
      ]
     },
     "execution_count": 12,
     "metadata": {},
     "output_type": "execute_result"
    }
   ],
   "source": [
    "adoption_ratio = round(total_intake/adopted_count, 2)\n",
    "adoption_ratio"
   ]
  },
  {
   "cell_type": "markdown",
   "metadata": {},
   "source": [
    "## QUESTION 4: What is the distribution of the types of animals in the shelter?\n",
    "\n",
    "**Method**: To find the count of each type of animal in the shelter, I grouped the intakes_outcomes data by 'animal_type' and used the size() function.\n",
    "\n",
    "**Answer**: According to the data, the distribution of animal types in the shelter is as follows:\n",
    "**Bird**: 339, **Cat**: 29,539, **Dog**: 45,366, **Other**: 4,428"
   ]
  },
  {
   "cell_type": "code",
   "execution_count": 13,
   "metadata": {},
   "outputs": [
    {
     "data": {
      "text/plain": [
       "animal_type\n",
       "Bird       339\n",
       "Cat      29539\n",
       "Dog      45366\n",
       "Other     4428\n",
       "dtype: int64"
      ]
     },
     "execution_count": 13,
     "metadata": {},
     "output_type": "execute_result"
    }
   ],
   "source": [
    "in_out.groupby('animal_type').size()"
   ]
  },
  {
   "cell_type": "markdown",
   "metadata": {},
   "source": [
    "## QUESTION 5: What are the adoption rates for specific breeds?\n",
    "\n",
    "**Method**: To find the adoption rates for the top 5 dog breeds, I used my previous df of adopted pets and indexed for 'animal_type'=='Dog' (to find list of all adopted dogs). I then grouped the adopted_dogs by breed in descending order, and sliced the top 5 results. To find the percentage for each breed, I divided the count of each dog breed by the total row count of adopted_dogs. \n",
    "\n",
    "**Answer**: According to the data, the top 5 adopted dog breeds are: 1) **Labrador Retriever Mix** 2) **Pit Bull Mix** 3) **Chihuahua Shorthair Mix** 4) **German Shepherd Mix** 5) **Australian Cattle Dog Mix**\n",
    "\n",
    "The percentage distribution (out of all adopted dogs) are as follows: \n",
    "* Labrador Retriever Mix : 11.51%\n",
    "* Pit Bull Mix : 11.29%\n",
    "* Chihuahua Shorthair Mix : 11.03%\n",
    "* German Shepherd Mix : 4.48%\n",
    "* Australian Cattle Dog Mix : 2.95%"
   ]
  },
  {
   "cell_type": "code",
   "execution_count": 14,
   "metadata": {},
   "outputs": [
    {
     "data": {
      "text/html": [
       "<div>\n",
       "<style scoped>\n",
       "    .dataframe tbody tr th:only-of-type {\n",
       "        vertical-align: middle;\n",
       "    }\n",
       "\n",
       "    .dataframe tbody tr th {\n",
       "        vertical-align: top;\n",
       "    }\n",
       "\n",
       "    .dataframe thead th {\n",
       "        text-align: right;\n",
       "    }\n",
       "</style>\n",
       "<table border=\"1\" class=\"dataframe\">\n",
       "  <thead>\n",
       "    <tr style=\"text-align: right;\">\n",
       "      <th></th>\n",
       "      <th>age_upon_outcome</th>\n",
       "      <th>animal_id_outcome</th>\n",
       "      <th>date_of_birth</th>\n",
       "      <th>outcome_subtype</th>\n",
       "      <th>outcome_type</th>\n",
       "      <th>sex_upon_outcome</th>\n",
       "      <th>age_upon_outcome_(days)</th>\n",
       "      <th>age_upon_outcome_(years)</th>\n",
       "      <th>age_upon_outcome_age_group</th>\n",
       "      <th>outcome_datetime</th>\n",
       "      <th>...</th>\n",
       "      <th>age_upon_intake_age_group</th>\n",
       "      <th>intake_datetime</th>\n",
       "      <th>intake_month</th>\n",
       "      <th>intake_year</th>\n",
       "      <th>intake_monthyear</th>\n",
       "      <th>intake_weekday</th>\n",
       "      <th>intake_hour</th>\n",
       "      <th>intake_number</th>\n",
       "      <th>time_in_shelter</th>\n",
       "      <th>time_in_shelter_days</th>\n",
       "    </tr>\n",
       "  </thead>\n",
       "  <tbody>\n",
       "    <tr>\n",
       "      <th>12</th>\n",
       "      <td>16 years</td>\n",
       "      <td>A200922</td>\n",
       "      <td>1997-10-03 00:00:00</td>\n",
       "      <td>Foster</td>\n",
       "      <td>Adoption</td>\n",
       "      <td>Neutered Male</td>\n",
       "      <td>5840</td>\n",
       "      <td>16.0</td>\n",
       "      <td>(15.0, 17.5]</td>\n",
       "      <td>2013-11-22 09:44:00</td>\n",
       "      <td>...</td>\n",
       "      <td>(15.0, 17.5]</td>\n",
       "      <td>2013-10-03 15:47:00</td>\n",
       "      <td>10</td>\n",
       "      <td>2013</td>\n",
       "      <td>2013-10</td>\n",
       "      <td>Thursday</td>\n",
       "      <td>15</td>\n",
       "      <td>1.0</td>\n",
       "      <td>49 days 17:57:00.000000000</td>\n",
       "      <td>49.747917</td>\n",
       "    </tr>\n",
       "    <tr>\n",
       "      <th>14</th>\n",
       "      <td>17 years</td>\n",
       "      <td>A210457</td>\n",
       "      <td>1999-06-01 00:00:00</td>\n",
       "      <td>Foster</td>\n",
       "      <td>Adoption</td>\n",
       "      <td>Neutered Male</td>\n",
       "      <td>6205</td>\n",
       "      <td>17.0</td>\n",
       "      <td>(15.0, 17.5]</td>\n",
       "      <td>2016-10-07 12:34:00</td>\n",
       "      <td>...</td>\n",
       "      <td>(15.0, 17.5]</td>\n",
       "      <td>2016-09-28 12:05:00</td>\n",
       "      <td>9</td>\n",
       "      <td>2016</td>\n",
       "      <td>2016-09</td>\n",
       "      <td>Wednesday</td>\n",
       "      <td>12</td>\n",
       "      <td>1.0</td>\n",
       "      <td>9 days 00:29:00.000000000</td>\n",
       "      <td>9.020139</td>\n",
       "    </tr>\n",
       "    <tr>\n",
       "      <th>22</th>\n",
       "      <td>15 years</td>\n",
       "      <td>A226069</td>\n",
       "      <td>2000-06-17 00:00:00</td>\n",
       "      <td>Foster</td>\n",
       "      <td>Adoption</td>\n",
       "      <td>Neutered Male</td>\n",
       "      <td>5475</td>\n",
       "      <td>15.0</td>\n",
       "      <td>(12.5, 15.0]</td>\n",
       "      <td>2015-10-29 15:00:00</td>\n",
       "      <td>...</td>\n",
       "      <td>(12.5, 15.0]</td>\n",
       "      <td>2015-10-06 12:29:00</td>\n",
       "      <td>10</td>\n",
       "      <td>2015</td>\n",
       "      <td>2015-10</td>\n",
       "      <td>Tuesday</td>\n",
       "      <td>12</td>\n",
       "      <td>1.0</td>\n",
       "      <td>23 days 02:31:00.000000000</td>\n",
       "      <td>23.104861</td>\n",
       "    </tr>\n",
       "    <tr>\n",
       "      <th>32</th>\n",
       "      <td>15 years</td>\n",
       "      <td>A249087</td>\n",
       "      <td>2001-01-02 00:00:00</td>\n",
       "      <td>Foster</td>\n",
       "      <td>Adoption</td>\n",
       "      <td>Spayed Female</td>\n",
       "      <td>5475</td>\n",
       "      <td>15.0</td>\n",
       "      <td>(12.5, 15.0]</td>\n",
       "      <td>2016-11-15 10:37:00</td>\n",
       "      <td>...</td>\n",
       "      <td>(12.5, 15.0]</td>\n",
       "      <td>2016-08-17 14:05:00</td>\n",
       "      <td>8</td>\n",
       "      <td>2016</td>\n",
       "      <td>2016-08</td>\n",
       "      <td>Wednesday</td>\n",
       "      <td>14</td>\n",
       "      <td>1.0</td>\n",
       "      <td>89 days 20:32:00.000000000</td>\n",
       "      <td>89.855556</td>\n",
       "    </tr>\n",
       "    <tr>\n",
       "      <th>48</th>\n",
       "      <td>11 years</td>\n",
       "      <td>A274546</td>\n",
       "      <td>2002-05-25 00:00:00</td>\n",
       "      <td>NaN</td>\n",
       "      <td>Adoption</td>\n",
       "      <td>Spayed Female</td>\n",
       "      <td>4015</td>\n",
       "      <td>11.0</td>\n",
       "      <td>(10.0, 12.5]</td>\n",
       "      <td>2013-11-16 12:24:00</td>\n",
       "      <td>...</td>\n",
       "      <td>(10.0, 12.5]</td>\n",
       "      <td>2013-11-13 18:16:00</td>\n",
       "      <td>11</td>\n",
       "      <td>2013</td>\n",
       "      <td>2013-11</td>\n",
       "      <td>Wednesday</td>\n",
       "      <td>18</td>\n",
       "      <td>1.0</td>\n",
       "      <td>2 days 18:08:00.000000000</td>\n",
       "      <td>2.755556</td>\n",
       "    </tr>\n",
       "  </tbody>\n",
       "</table>\n",
       "<p>5 rows × 41 columns</p>\n",
       "</div>"
      ],
      "text/plain": [
       "   age_upon_outcome animal_id_outcome        date_of_birth outcome_subtype  \\\n",
       "12         16 years           A200922  1997-10-03 00:00:00          Foster   \n",
       "14         17 years           A210457  1999-06-01 00:00:00          Foster   \n",
       "22         15 years           A226069  2000-06-17 00:00:00          Foster   \n",
       "32         15 years           A249087  2001-01-02 00:00:00          Foster   \n",
       "48         11 years           A274546  2002-05-25 00:00:00             NaN   \n",
       "\n",
       "   outcome_type sex_upon_outcome  age_upon_outcome_(days)  \\\n",
       "12     Adoption    Neutered Male                     5840   \n",
       "14     Adoption    Neutered Male                     6205   \n",
       "22     Adoption    Neutered Male                     5475   \n",
       "32     Adoption    Spayed Female                     5475   \n",
       "48     Adoption    Spayed Female                     4015   \n",
       "\n",
       "    age_upon_outcome_(years) age_upon_outcome_age_group     outcome_datetime  \\\n",
       "12                      16.0               (15.0, 17.5]  2013-11-22 09:44:00   \n",
       "14                      17.0               (15.0, 17.5]  2016-10-07 12:34:00   \n",
       "22                      15.0               (12.5, 15.0]  2015-10-29 15:00:00   \n",
       "32                      15.0               (12.5, 15.0]  2016-11-15 10:37:00   \n",
       "48                      11.0               (10.0, 12.5]  2013-11-16 12:24:00   \n",
       "\n",
       "    ...  age_upon_intake_age_group      intake_datetime intake_month  \\\n",
       "12  ...               (15.0, 17.5]  2013-10-03 15:47:00           10   \n",
       "14  ...               (15.0, 17.5]  2016-09-28 12:05:00            9   \n",
       "22  ...               (12.5, 15.0]  2015-10-06 12:29:00           10   \n",
       "32  ...               (12.5, 15.0]  2016-08-17 14:05:00            8   \n",
       "48  ...               (10.0, 12.5]  2013-11-13 18:16:00           11   \n",
       "\n",
       "   intake_year  intake_monthyear  intake_weekday  intake_hour  intake_number  \\\n",
       "12        2013           2013-10        Thursday           15            1.0   \n",
       "14        2016           2016-09       Wednesday           12            1.0   \n",
       "22        2015           2015-10         Tuesday           12            1.0   \n",
       "32        2016           2016-08       Wednesday           14            1.0   \n",
       "48        2013           2013-11       Wednesday           18            1.0   \n",
       "\n",
       "               time_in_shelter time_in_shelter_days  \n",
       "12  49 days 17:57:00.000000000            49.747917  \n",
       "14   9 days 00:29:00.000000000             9.020139  \n",
       "22  23 days 02:31:00.000000000            23.104861  \n",
       "32  89 days 20:32:00.000000000            89.855556  \n",
       "48   2 days 18:08:00.000000000             2.755556  \n",
       "\n",
       "[5 rows x 41 columns]"
      ]
     },
     "execution_count": 14,
     "metadata": {},
     "output_type": "execute_result"
    }
   ],
   "source": [
    "adopted_dogs = adopted[adopted.animal_type == 'Dog']\n",
    "adopted_dogs.head()"
   ]
  },
  {
   "cell_type": "code",
   "execution_count": 15,
   "metadata": {},
   "outputs": [
    {
     "name": "stdout",
     "output_type": "stream",
     "text": [
      "['age_upon_outcome', 'animal_id_outcome', 'date_of_birth', 'outcome_subtype', 'outcome_type', 'sex_upon_outcome', 'age_upon_outcome_(days)', 'age_upon_outcome_(years)', 'age_upon_outcome_age_group', 'outcome_datetime', 'outcome_month', 'outcome_year', 'outcome_monthyear', 'outcome_weekday', 'outcome_hour', 'outcome_number', 'dob_year', 'dob_month', 'dob_monthyear', 'age_upon_intake', 'animal_id_intake', 'animal_type', 'breed', 'color', 'found_location', 'intake_condition', 'intake_type', 'sex_upon_intake', 'count', 'age_upon_intake_(days)', 'age_upon_intake_(years)', 'age_upon_intake_age_group', 'intake_datetime', 'intake_month', 'intake_year', 'intake_monthyear', 'intake_weekday', 'intake_hour', 'intake_number', 'time_in_shelter', 'time_in_shelter_days']\n"
     ]
    }
   ],
   "source": [
    "print(list(adopted_dogs)) # get column names "
   ]
  },
  {
   "cell_type": "code",
   "execution_count": 16,
   "metadata": {},
   "outputs": [
    {
     "data": {
      "text/plain": [
       "breed\n",
       "Labrador Retriever Mix       2368\n",
       "Pit Bull Mix                 2324\n",
       "Chihuahua Shorthair Mix      2270\n",
       "German Shepherd Mix           922\n",
       "Australian Cattle Dog Mix     607\n",
       "dtype: int64"
      ]
     },
     "execution_count": 16,
     "metadata": {},
     "output_type": "execute_result"
    }
   ],
   "source": [
    "top_5_dogs = adopted_dogs.groupby('breed').size().sort_values(ascending=False)[:5]\n",
    "top_5_dogs"
   ]
  },
  {
   "cell_type": "code",
   "execution_count": 17,
   "metadata": {},
   "outputs": [
    {
     "data": {
      "text/plain": [
       "{'Labrador Retriever Mix': 2368,\n",
       " 'Pit Bull Mix': 2324,\n",
       " 'Chihuahua Shorthair Mix': 2270,\n",
       " 'German Shepherd Mix': 922,\n",
       " 'Australian Cattle Dog Mix': 607}"
      ]
     },
     "execution_count": 17,
     "metadata": {},
     "output_type": "execute_result"
    }
   ],
   "source": [
    "dog_dict = top_5_dogs.to_dict()\n",
    "dog_dict"
   ]
  },
  {
   "cell_type": "code",
   "execution_count": 18,
   "metadata": {},
   "outputs": [
    {
     "name": "stdout",
     "output_type": "stream",
     "text": [
      "Labrador Retriever Mix : 11.51%\n",
      "Pit Bull Mix : 11.29%\n",
      "Chihuahua Shorthair Mix : 11.03%\n",
      "German Shepherd Mix : 4.48%\n",
      "Australian Cattle Dog Mix : 2.95%\n"
     ]
    }
   ],
   "source": [
    "for breed, count in dog_dict.items():\n",
    "    print(f'{breed} : {round((count/(adopted_dogs.count()[1]) * 100), 2)}%')"
   ]
  },
  {
   "cell_type": "markdown",
   "metadata": {},
   "source": [
    "## QUESTION 6: What are the adoption rates for different colorings?\n",
    "\n",
    "**Method**: Unlike the previous question, I did not have to use an index for this (the question did not specify an animal type). I grouped the adopted animal df by 'color', and took the top 5 results (with ascending=False). I then divided the count of each color by the total count of adopted animals to find the percentages. \n",
    "\n",
    "**Answer** Top 5 Colors are 1) **Black/White** 2) **Black** 3) **Brown Tabby** 4) **Tan/White** 5) **Brown/White**\n",
    "\n",
    "Distribution is: \n",
    "* Black/White : 11.13%\n",
    "* Black : 8.01%\n",
    "* Brown Tabby : 5.57%\n",
    "* Tan/White : 3.46%\n",
    "* Brown/White : 3.3%"
   ]
  },
  {
   "cell_type": "code",
   "execution_count": 19,
   "metadata": {},
   "outputs": [],
   "source": [
    "top_5_color = adopted.groupby('color').size().sort_values(ascending=False)[:5] #top 5 colors "
   ]
  },
  {
   "cell_type": "code",
   "execution_count": 20,
   "metadata": {},
   "outputs": [
    {
     "data": {
      "text/plain": [
       "{'Black/White': 3738,\n",
       " 'Black': 2692,\n",
       " 'Brown Tabby': 1871,\n",
       " 'Tan/White': 1163,\n",
       " 'Brown/White': 1110}"
      ]
     },
     "execution_count": 20,
     "metadata": {},
     "output_type": "execute_result"
    }
   ],
   "source": [
    "color_dict = top_5_color.to_dict()\n",
    "color_dict"
   ]
  },
  {
   "cell_type": "code",
   "execution_count": 21,
   "metadata": {},
   "outputs": [
    {
     "name": "stdout",
     "output_type": "stream",
     "text": [
      "Black/White : 11.13%\n",
      "Black : 8.01%\n",
      "Brown Tabby : 5.57%\n",
      "Tan/White : 3.46%\n",
      "Brown/White : 3.3%\n"
     ]
    }
   ],
   "source": [
    "for color, count in color_dict.items():\n",
    "    print(f'{color} : {round(((count/adopted_count) * 100), 2)}%')"
   ]
  },
  {
   "cell_type": "markdown",
   "metadata": {},
   "source": [
    "## QUESTION 7: About how many animals are spayed/neutered each month?\n",
    "\n",
    "**Method**: To find how many animals are spayed/neutered each month, I decided to answer with the historical average across the entired intakes_outcomes dataset. I first grouped by 'sex_upon_intake', and then by 'sex_upon_outcome' to roughly compare sex status between intake and outcome. I then calculated the total number of neutered animals across the 6 year span by using a boolean index where the 'sex_upon_intake' is not equal to 'sex_upon_outcome', and also made sure that I did not include the columns where sex is unknown (the number of uknown pets is the same for both 'sex_upon_intake' and 'sex_upon_outcomes', but I just wanted to be sure). Then, I divided the total_neutered count by the number of months in the data set (72), to find the monthly average.   \n",
    "\n",
    "**Answer**: An average of about 417 animals are neutered/spayed each month"
   ]
  },
  {
   "cell_type": "code",
   "execution_count": 22,
   "metadata": {},
   "outputs": [
    {
     "data": {
      "text/plain": [
       "sex_upon_intake\n",
       "Intact Female    23704\n",
       "Intact Male      25317\n",
       "Neutered Male    12708\n",
       "Spayed Female    11153\n",
       "Unknown           6789\n",
       "dtype: int64"
      ]
     },
     "execution_count": 22,
     "metadata": {},
     "output_type": "execute_result"
    }
   ],
   "source": [
    "in_out.groupby('sex_upon_intake').size()"
   ]
  },
  {
   "cell_type": "code",
   "execution_count": 23,
   "metadata": {},
   "outputs": [
    {
     "data": {
      "text/plain": [
       "sex_upon_outcome\n",
       "Intact Female     9308\n",
       "Intact Male       9732\n",
       "Neutered Male    28293\n",
       "Spayed Female    25549\n",
       "Unknown           6789\n",
       "dtype: int64"
      ]
     },
     "execution_count": 23,
     "metadata": {},
     "output_type": "execute_result"
    }
   ],
   "source": [
    "in_out.groupby('sex_upon_outcome').size()"
   ]
  },
  {
   "cell_type": "code",
   "execution_count": 25,
   "metadata": {},
   "outputs": [],
   "source": [
    "year_count = len(intakes.groupby('year').size()) #6 years of data represented\n",
    "month_count = year_count * 12 "
   ]
  },
  {
   "cell_type": "code",
   "execution_count": null,
   "metadata": {},
   "outputs": [
    {
     "data": {
      "text/plain": [
       "416.5"
      ]
     },
     "execution_count": 101,
     "metadata": {},
     "output_type": "execute_result"
    }
   ],
   "source": [
    "total_neutered = len(in_out[(in_out.sex_upon_intake != in_out.sex_upon_outcome) & (in_out.sex_upon_intake != 'Unknown') & (in_out.sex_upon_outcome != 'Uknown')])\n",
    "total_neutered # total neutered is 29,988\n",
    "neutered_per_month = total_neutered/month_count #Divide total neutered by months represented in data \n",
    "neutered_per_month"
   ]
  }
 ],
 "metadata": {
  "interpreter": {
   "hash": "1a4501d3d562f0b28c90d26f5c059afe9f5aa811b3cdc03e17a4608c7433b5d2"
  },
  "kernelspec": {
   "display_name": "Python 3.9.7 64-bit",
   "language": "python",
   "name": "python3"
  },
  "language_info": {
   "codemirror_mode": {
    "name": "ipython",
    "version": 3
   },
   "file_extension": ".py",
   "mimetype": "text/x-python",
   "name": "python",
   "nbconvert_exporter": "python",
   "pygments_lexer": "ipython3",
   "version": "3.9.7"
  },
  "orig_nbformat": 4
 },
 "nbformat": 4,
 "nbformat_minor": 2
}
